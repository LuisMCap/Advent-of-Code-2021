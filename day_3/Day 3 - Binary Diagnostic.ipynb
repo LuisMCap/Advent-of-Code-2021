{
 "cells": [
  {
   "cell_type": "markdown",
   "id": "c31bf563",
   "metadata": {},
   "source": [
    "## Part 1"
   ]
  },
  {
   "cell_type": "code",
   "execution_count": null,
   "id": "bba02cc1",
   "metadata": {},
   "outputs": [],
   "source": [
    "#testing numbers\n",
    "bits = ['00100',\n",
    "'11110',\n",
    "'10110',\n",
    "'10111',\n",
    "'10101',\n",
    "'01111',\n",
    "'00111',\n",
    "'11100',\n",
    "'10000',\n",
    "'11001',\n",
    "'00010',\n",
    "'01010']"
   ]
  },
  {
   "cell_type": "code",
   "execution_count": 63,
   "id": "a87662f6",
   "metadata": {},
   "outputs": [],
   "source": [
    "file = open('day 3.txt','r')\n",
    "content = file.read()\n",
    "bits = content.replace('\\n',',').split(',')\n",
    "bits.remove('')"
   ]
  },
  {
   "cell_type": "code",
   "execution_count": 47,
   "id": "5c4c0743",
   "metadata": {},
   "outputs": [],
   "source": [
    "def get_rates(bits):\n",
    "\n",
    "    j = 0\n",
    "    #gamma most common\n",
    "    gamma = ''\n",
    "    #epsilon is the least common\n",
    "    epsilon = ''\n",
    "\n",
    "    while j < len(bits[0]):\n",
    "        dct = {}\n",
    "        for i in range(len(bits)):\n",
    "            if bits[i][j] not in dct.keys():\n",
    "                dct[bits[i][j]] = 1\n",
    "            else:\n",
    "                dct[bits[i][j]] += 1\n",
    "\n",
    "        #gamma\n",
    "        most_common = max(dct,key=lambda x:dct[x])\n",
    "        gamma += most_common\n",
    "\n",
    "        #epsilon\n",
    "        least_common = min(dct,key=lambda x:dct[x])\n",
    "        epsilon += least_common\n",
    "\n",
    "        j+=1\n",
    "    \n",
    "    return gamma,epsilon\n",
    "\n",
    "def calculate_power(gamma,epsilon):\n",
    "        \n",
    "    gamma_rate = int(gamma,2)\n",
    "    episilon_rate = int(epsilon,2)\n",
    "\n",
    "    power_consumption = gamma_rate * episilon_rate\n",
    "    \n",
    "    return power_consumption"
   ]
  },
  {
   "cell_type": "code",
   "execution_count": 52,
   "id": "22b7ee57",
   "metadata": {},
   "outputs": [
    {
     "data": {
      "text/plain": [
       "1540244"
      ]
     },
     "execution_count": 52,
     "metadata": {},
     "output_type": "execute_result"
    }
   ],
   "source": [
    "rates = get_rates(bits)\n",
    "calculate_power(rates[0],rates[1])"
   ]
  },
  {
   "cell_type": "markdown",
   "id": "40e4869e",
   "metadata": {},
   "source": [
    "## Part 2"
   ]
  },
  {
   "cell_type": "code",
   "execution_count": 57,
   "id": "9f68fbc2",
   "metadata": {},
   "outputs": [],
   "source": [
    "bits = ['00100',\n",
    "'11110',\n",
    "'10110',\n",
    "'10111',\n",
    "'10101',\n",
    "'01111',\n",
    "'00111',\n",
    "'11100',\n",
    "'10000',\n",
    "'11001',\n",
    "'00010',\n",
    "'01010']"
   ]
  },
  {
   "cell_type": "code",
   "execution_count": 58,
   "id": "e637af83",
   "metadata": {},
   "outputs": [],
   "source": [
    "def get_rating(bits):\n",
    "    ideal_oxygen = ''\n",
    "    ideal_c02 = ''\n",
    "    j = 0\n",
    "    while j < len(bits[0]):\n",
    "        dct_oxygen = {}\n",
    "        dct_c02 = {}\n",
    "        for i in range(len(bits)):\n",
    "            #Oxygen\n",
    "            if len(ideal_oxygen) == 0:\n",
    "\n",
    "                if bits[i][j] not in dct_oxygen.keys():\n",
    "                    dct_oxygen[bits[i][j]] = 1\n",
    "                else:\n",
    "                    dct_oxygen[bits[i][j]] += 1\n",
    "\n",
    "\n",
    "            else:\n",
    "\n",
    "                if bits[i][j] not in dct_oxygen.keys() and bits[i][:len(ideal_oxygen)] == ideal_oxygen:\n",
    "                    dct_oxygen[bits[i][j]] = 1\n",
    "                elif bits[i][j] in dct_oxygen.keys() and bits[i][:len(ideal_oxygen)] == ideal_oxygen:\n",
    "                    dct_oxygen[bits[i][j]] += 1\n",
    "\n",
    "            #C02\n",
    "            if len(ideal_c02) == 0:\n",
    "                if bits[i][j] not in dct_c02.keys():\n",
    "                    dct_c02[bits[i][j]] = 1\n",
    "                else:\n",
    "                    dct_c02[bits[i][j]] += 1\n",
    "\n",
    "            else:\n",
    "\n",
    "                if bits[i][j] not in dct_c02.keys() and bits[i][:len(ideal_c02)] == ideal_c02:\n",
    "                    dct_c02[bits[i][j]] = 1\n",
    "                elif bits[i][j] and bits[i][:len(ideal_c02)] == ideal_c02:\n",
    "                    dct_c02[bits[i][j]] += 1\n",
    "            \n",
    "\n",
    "\n",
    "        #Oxygen\n",
    "        if dct_oxygen.keys():\n",
    "            most_common = max(dct_oxygen,key=lambda x:dct_oxygen[x])\n",
    "        \n",
    "        if len(set(dct_oxygen.values())) == 1 and len(dct_oxygen.keys())==2:\n",
    "            ideal_oxygen += '1'\n",
    "        else:\n",
    "            ideal_oxygen += most_common\n",
    "\n",
    "        #C02\n",
    "        if dct_c02.keys():\n",
    "            least_common = min(dct_c02,key=lambda x:dct_c02[x])\n",
    "\n",
    "            if len(set(dct_c02.values())) == 1 and len(dct_c02.keys()) == 2:\n",
    "                ideal_c02 += '0'\n",
    "            else:\n",
    "                ideal_c02 += least_common\n",
    "\n",
    "\n",
    "        j+=1\n",
    "    \n",
    "    return ideal_oxygen,ideal_c02\n"
   ]
  },
  {
   "cell_type": "code",
   "execution_count": 64,
   "id": "b584a343",
   "metadata": {},
   "outputs": [],
   "source": [
    "ratings = get_rating(bits)"
   ]
  },
  {
   "cell_type": "code",
   "execution_count": 65,
   "id": "a82c3243",
   "metadata": {},
   "outputs": [
    {
     "data": {
      "text/plain": [
       "4203981"
      ]
     },
     "execution_count": 65,
     "metadata": {},
     "output_type": "execute_result"
    }
   ],
   "source": [
    "calculate_power(ratings[0],ratings[1])"
   ]
  },
  {
   "cell_type": "markdown",
   "id": "742b6505",
   "metadata": {},
   "source": [
    "## Comments"
   ]
  },
  {
   "cell_type": "markdown",
   "id": "8f2cb3d0",
   "metadata": {},
   "source": [
    "Today's exercise took me a while because I was trying to solve it in just one iteration of the inputs.\n",
    "\n",
    "I could have separated it in more functions, but I like my solution."
   ]
  }
 ],
 "metadata": {
  "kernelspec": {
   "display_name": "Python 3 (ipykernel)",
   "language": "python",
   "name": "python3"
  },
  "language_info": {
   "codemirror_mode": {
    "name": "ipython",
    "version": 3
   },
   "file_extension": ".py",
   "mimetype": "text/x-python",
   "name": "python",
   "nbconvert_exporter": "python",
   "pygments_lexer": "ipython3",
   "version": "3.8.11"
  }
 },
 "nbformat": 4,
 "nbformat_minor": 5
}

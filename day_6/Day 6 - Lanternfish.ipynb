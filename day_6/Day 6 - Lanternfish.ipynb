{
 "cells": [
  {
   "cell_type": "markdown",
   "id": "00e8b270",
   "metadata": {},
   "source": [
    "## Part 1"
   ]
  },
  {
   "cell_type": "code",
   "execution_count": 1,
   "id": "0f3cb18b",
   "metadata": {},
   "outputs": [],
   "source": [
    "#get data\n",
    "file = open('day 6.txt','r')\n",
    "content = file.read()"
   ]
  },
  {
   "cell_type": "code",
   "execution_count": 2,
   "id": "ea250bea",
   "metadata": {},
   "outputs": [],
   "source": [
    "#clean data\n",
    "content = content.replace('\\n','').replace(',','')\n",
    "states = [int(number) for number in content]"
   ]
  },
  {
   "cell_type": "code",
   "execution_count": 3,
   "id": "532ecac0",
   "metadata": {},
   "outputs": [],
   "source": [
    "#Create Node and Linked List class\n",
    "class Node():\n",
    "    def __init__(self,data):\n",
    "        self.data = data\n",
    "        self.next = None\n",
    "\n",
    "\n",
    "class LinkedList():\n",
    "    def __init__(self):\n",
    "        self.head = None\n",
    "        \n",
    "    \n",
    "    #Creates a new linked list from a list\n",
    "    def append_list(self,lista):\n",
    "        first_node = Node(lista[0])\n",
    "        \n",
    "        self.head = first_node\n",
    "        \n",
    "        current_node = self.head\n",
    "        \n",
    "        for i in lista[1:]:\n",
    "            new_node = Node(i)        \n",
    "            while current_node.next:\n",
    "                current_node = current_node.next\n",
    "            current_node.next = new_node\n",
    "            \n",
    "    \n",
    "    #Prints data values of linked list\n",
    "    def print_list(self):\n",
    "        current_node = self.head\n",
    "        while current_node:\n",
    "            print(current_node.data)\n",
    "            current_node = current_node.next\n",
    "            \n",
    "     \n",
    "    #Reduces internal timer of lanternfishes\n",
    "    def state(self):      \n",
    "        \n",
    "        current_node = self.head\n",
    "        \n",
    "        while current_node:\n",
    "            current_node.data -= 1\n",
    "            \n",
    "            if current_node.data == -1:\n",
    "                current_node.data = 6\n",
    "                \n",
    "                new_node = Node(8)                \n",
    "                new_node.next = self.head              \n",
    "                self.head = new_node\n",
    "                \n",
    "            current_node = current_node.next\n",
    "            \n",
    "    \n",
    "    #Counts the elements of the linked list (number of lanternfishes)\n",
    "    def count(self):\n",
    "        \n",
    "        count = 0\n",
    "        current_node = self.head\n",
    "        \n",
    "        while current_node:\n",
    "            current_node = current_node.next\n",
    "            count+=1\n",
    "            \n",
    "        return count"
   ]
  },
  {
   "cell_type": "code",
   "execution_count": 4,
   "id": "8b234b7f",
   "metadata": {},
   "outputs": [],
   "source": [
    "lista = LinkedList()"
   ]
  },
  {
   "cell_type": "code",
   "execution_count": 5,
   "id": "c709359e",
   "metadata": {},
   "outputs": [],
   "source": [
    "lista.append_list(states)"
   ]
  },
  {
   "cell_type": "code",
   "execution_count": 6,
   "id": "ebcf07fe",
   "metadata": {},
   "outputs": [],
   "source": [
    "for day in range(80):\n",
    "    lista.state()"
   ]
  },
  {
   "cell_type": "code",
   "execution_count": 7,
   "id": "03b64027",
   "metadata": {},
   "outputs": [
    {
     "data": {
      "text/plain": [
       "376194"
      ]
     },
     "execution_count": 7,
     "metadata": {},
     "output_type": "execute_result"
    }
   ],
   "source": [
    "lista.count()"
   ]
  },
  {
   "cell_type": "markdown",
   "id": "d1abc112",
   "metadata": {},
   "source": [
    "## Part 2"
   ]
  },
  {
   "cell_type": "code",
   "execution_count": 8,
   "id": "6d289c6d",
   "metadata": {},
   "outputs": [],
   "source": [
    "from collections import Counter"
   ]
  },
  {
   "cell_type": "code",
   "execution_count": 9,
   "id": "b6f9ccef",
   "metadata": {},
   "outputs": [],
   "source": [
    "content = content.replace('\\n','').replace(',','')\n",
    "states = [int(number) for number in content]"
   ]
  },
  {
   "cell_type": "code",
   "execution_count": 10,
   "id": "e5fa927d",
   "metadata": {},
   "outputs": [],
   "source": [
    "fishes = Counter({i:0 for i in range(10)})\n",
    "fishes.update(states)"
   ]
  },
  {
   "cell_type": "code",
   "execution_count": 11,
   "id": "7ac81647",
   "metadata": {},
   "outputs": [],
   "source": [
    "for i in range(256):\n",
    "    fishes[7] += fishes[0]\n",
    "    fishes[9] += fishes[0]\n",
    "    for fish in fishes:\n",
    "        fishes[fish] = fishes[fish+1]"
   ]
  },
  {
   "cell_type": "code",
   "execution_count": 12,
   "id": "b3b2b756",
   "metadata": {},
   "outputs": [
    {
     "data": {
      "text/plain": [
       "1693022481538"
      ]
     },
     "execution_count": 12,
     "metadata": {},
     "output_type": "execute_result"
    }
   ],
   "source": [
    "sum(fishes.values())"
   ]
  }
 ],
 "metadata": {
  "kernelspec": {
   "display_name": "Python 3 (ipykernel)",
   "language": "python",
   "name": "python3"
  },
  "language_info": {
   "codemirror_mode": {
    "name": "ipython",
    "version": 3
   },
   "file_extension": ".py",
   "mimetype": "text/x-python",
   "name": "python",
   "nbconvert_exporter": "python",
   "pygments_lexer": "ipython3",
   "version": "3.9.7"
  }
 },
 "nbformat": 4,
 "nbformat_minor": 5
}

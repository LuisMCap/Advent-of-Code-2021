{
 "cells": [
  {
   "cell_type": "markdown",
   "id": "ad1c3dbd",
   "metadata": {},
   "source": [
    "## Part 1"
   ]
  },
  {
   "cell_type": "code",
   "execution_count": 1,
   "id": "eeb6f3d1",
   "metadata": {},
   "outputs": [],
   "source": [
    "f = open('day 1.txt', 'r')"
   ]
  },
  {
   "cell_type": "code",
   "execution_count": 2,
   "id": "d2a67ced",
   "metadata": {},
   "outputs": [],
   "source": [
    "content = f.read()"
   ]
  },
  {
   "cell_type": "code",
   "execution_count": 3,
   "id": "0f525fa8",
   "metadata": {},
   "outputs": [],
   "source": [
    "numbers_uncleaned = content.replace('\\n',',').split(',')\n",
    "numbers_uncleaned.remove('')\n",
    "numbers = [int(number) for number in numbers_uncleaned]     "
   ]
  },
  {
   "cell_type": "code",
   "execution_count": 8,
   "id": "0898e63c",
   "metadata": {},
   "outputs": [],
   "source": [
    "def increased(numbers):\n",
    "    count = 0\n",
    "    for i in range(1,len(numbers)):\n",
    "        if numbers[i] > numbers[i-1]:\n",
    "            count += 1\n",
    "    return count\n",
    "    "
   ]
  },
  {
   "cell_type": "code",
   "execution_count": 9,
   "id": "594d1d53",
   "metadata": {},
   "outputs": [
    {
     "data": {
      "text/plain": [
       "1722"
      ]
     },
     "execution_count": 9,
     "metadata": {},
     "output_type": "execute_result"
    }
   ],
   "source": [
    "increased(numbers)"
   ]
  },
  {
   "cell_type": "markdown",
   "id": "1649f8b0",
   "metadata": {},
   "source": [
    "## Part 2"
   ]
  },
  {
   "cell_type": "code",
   "execution_count": 12,
   "id": "1a5d886d",
   "metadata": {},
   "outputs": [],
   "source": [
    "def increased_sliding(numbers,k):\n",
    "    suma = 0\n",
    "    k -= 1\n",
    "    count = 0\n",
    "    for i in range(0,len(numbers)-1):\n",
    "        suma += numbers[i]\n",
    "        if i > k-1:\n",
    "            first_sum = suma\n",
    "            suma -= numbers[i-k]\n",
    "            second_sum = suma + numbers[i+1]\n",
    "            if first_sum < second_sum:\n",
    "                count += 1\n",
    "    return count"
   ]
  },
  {
   "cell_type": "code",
   "execution_count": 13,
   "id": "0c806546",
   "metadata": {},
   "outputs": [
    {
     "data": {
      "text/plain": [
       "1748"
      ]
     },
     "execution_count": 13,
     "metadata": {},
     "output_type": "execute_result"
    }
   ],
   "source": [
    "increased_sliding(numbers,3)"
   ]
  }
 ],
 "metadata": {
  "kernelspec": {
   "display_name": "Python 3 (ipykernel)",
   "language": "python",
   "name": "python3"
  },
  "language_info": {
   "codemirror_mode": {
    "name": "ipython",
    "version": 3
   },
   "file_extension": ".py",
   "mimetype": "text/x-python",
   "name": "python",
   "nbconvert_exporter": "python",
   "pygments_lexer": "ipython3",
   "version": "3.8.11"
  }
 },
 "nbformat": 4,
 "nbformat_minor": 5
}

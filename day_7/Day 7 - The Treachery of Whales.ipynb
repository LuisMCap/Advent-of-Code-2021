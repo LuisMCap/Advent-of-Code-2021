{
 "cells": [
  {
   "cell_type": "code",
   "execution_count": 1,
   "id": "4871eb44",
   "metadata": {},
   "outputs": [],
   "source": [
    "file = open('day 7.txt','r')\n",
    "content = file.read()"
   ]
  },
  {
   "cell_type": "markdown",
   "id": "2881b0fe",
   "metadata": {},
   "source": [
    "## Part 1"
   ]
  },
  {
   "cell_type": "code",
   "execution_count": 4,
   "id": "b8c6d548",
   "metadata": {},
   "outputs": [],
   "source": [
    "horizontal = [int(n) for n in content.split(',')]"
   ]
  },
  {
   "cell_type": "code",
   "execution_count": 6,
   "id": "6bb9a2b9",
   "metadata": {},
   "outputs": [],
   "source": [
    "position = 1\n",
    "answer = float('inf')\n",
    "while position < len(horizontal):\n",
    "    movement = [abs(move - position) for move in horizontal]\n",
    "    suma = sum(movement)\n",
    "    answer = min(suma,answer)\n",
    "    \n",
    "    position+=1"
   ]
  },
  {
   "cell_type": "code",
   "execution_count": 7,
   "id": "23ac26b9",
   "metadata": {},
   "outputs": [
    {
     "data": {
      "text/plain": [
       "339321"
      ]
     },
     "execution_count": 7,
     "metadata": {},
     "output_type": "execute_result"
    }
   ],
   "source": [
    "answer"
   ]
  },
  {
   "cell_type": "markdown",
   "id": "4c305dd2",
   "metadata": {},
   "source": [
    "## Part 2"
   ]
  },
  {
   "cell_type": "code",
   "execution_count": 8,
   "id": "739962a6",
   "metadata": {},
   "outputs": [],
   "source": [
    "position = 1\n",
    "answer = float('inf')\n",
    "while position < len(horizontal):\n",
    "    lista = []\n",
    "    \n",
    "    for i in range(len(horizontal)):\n",
    "        movement = sum((range(1,abs(position-horizontal[i])+1)))\n",
    "        lista.append(movement)\n",
    "        \n",
    "    \n",
    "    suma = sum(lista)\n",
    "    answer = min(suma,answer)\n",
    "    position +=1"
   ]
  },
  {
   "cell_type": "code",
   "execution_count": 9,
   "id": "98a1cf0b",
   "metadata": {},
   "outputs": [
    {
     "data": {
      "text/plain": [
       "95476244"
      ]
     },
     "execution_count": 9,
     "metadata": {},
     "output_type": "execute_result"
    }
   ],
   "source": [
    "answer"
   ]
  },
  {
   "cell_type": "markdown",
   "id": "682edfab",
   "metadata": {},
   "source": [
    "Not to happy with this one. I am going to stop because I still have no computer, and tomorrow (12/25/2021) is the last day of the challenge. "
   ]
  }
 ],
 "metadata": {
  "kernelspec": {
   "display_name": "Python 3 (ipykernel)",
   "language": "python",
   "name": "python3"
  },
  "language_info": {
   "codemirror_mode": {
    "name": "ipython",
    "version": 3
   },
   "file_extension": ".py",
   "mimetype": "text/x-python",
   "name": "python",
   "nbconvert_exporter": "python",
   "pygments_lexer": "ipython3",
   "version": "3.9.7"
  }
 },
 "nbformat": 4,
 "nbformat_minor": 5
}

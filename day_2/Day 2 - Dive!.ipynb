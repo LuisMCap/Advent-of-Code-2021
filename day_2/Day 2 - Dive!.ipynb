{
 "cells": [
  {
   "cell_type": "markdown",
   "id": "674a884c",
   "metadata": {},
   "source": [
    "## Part 1"
   ]
  },
  {
   "cell_type": "code",
   "execution_count": 85,
   "id": "a8db0913",
   "metadata": {},
   "outputs": [],
   "source": [
    "file = open('day 2.txt','r')"
   ]
  },
  {
   "cell_type": "code",
   "execution_count": 86,
   "id": "45295e20",
   "metadata": {},
   "outputs": [],
   "source": [
    "content = file.read()"
   ]
  },
  {
   "cell_type": "code",
   "execution_count": 94,
   "id": "a43d8ed0",
   "metadata": {},
   "outputs": [],
   "source": [
    "numbers = content.replace('\\n',',').split(',')\n",
    "numbers.remove('')"
   ]
  },
  {
   "cell_type": "code",
   "execution_count": 89,
   "id": "d0437708",
   "metadata": {},
   "outputs": [],
   "source": [
    "#testing numbers\n",
    "numbers = ['forward 5',\n",
    "'down 5',\n",
    "'forward 8',\n",
    "'up 3',\n",
    "'down 8',\n",
    "'forward 2']"
   ]
  },
  {
   "cell_type": "code",
   "execution_count": 95,
   "id": "deb66dc9",
   "metadata": {},
   "outputs": [
    {
     "data": {
      "text/plain": [
       "2039912"
      ]
     },
     "execution_count": 95,
     "metadata": {},
     "output_type": "execute_result"
    }
   ],
   "source": [
    "dct = {}\n",
    "for number in numbers:\n",
    "    direction = number.split()\n",
    "    key = direction[0]\n",
    "    value = int(direction[1])\n",
    "    \n",
    "    if key not in dct.keys():\n",
    "        dct[key] = value\n",
    "    else:\n",
    "        dct[key] += value\n",
    "\n",
    "depth = dct['down'] - dct['up']\n",
    "answer = depth *dct['forward']\n",
    "\n",
    "answer"
   ]
  },
  {
   "cell_type": "code",
   "execution_count": 70,
   "id": "077acc0c",
   "metadata": {},
   "outputs": [
    {
     "data": {
      "text/plain": [
       "2039912"
      ]
     },
     "execution_count": 70,
     "metadata": {},
     "output_type": "execute_result"
    }
   ],
   "source": [
    "answer"
   ]
  },
  {
   "cell_type": "markdown",
   "id": "778e9025",
   "metadata": {},
   "source": [
    "## Part Two"
   ]
  },
  {
   "cell_type": "code",
   "execution_count": 97,
   "id": "72b7b190",
   "metadata": {},
   "outputs": [
    {
     "name": "stdout",
     "output_type": "stream",
     "text": [
      "1942068080\n"
     ]
    }
   ],
   "source": [
    "horizontal,depth,aim = 0,0,0\n",
    "\n",
    "for number in numbers:\n",
    "    direction = number.split()\n",
    "    key = direction[0]\n",
    "    value = int(direction[1])\n",
    "    \n",
    "    if key == 'forward':\n",
    "        horizontal += value\n",
    "        increase = value * aim\n",
    "        depth += increase\n",
    "        \n",
    "    elif key == 'down':\n",
    "        aim += value\n",
    "        \n",
    "    elif key == 'up':\n",
    "        aim -= value\n",
    "        \n",
    "answer = horizontal * depth\n",
    "print(answer)"
   ]
  },
  {
   "cell_type": "code",
   "execution_count": null,
   "id": "74a48170",
   "metadata": {},
   "outputs": [],
   "source": []
  }
 ],
 "metadata": {
  "kernelspec": {
   "display_name": "Python 3 (ipykernel)",
   "language": "python",
   "name": "python3"
  },
  "language_info": {
   "codemirror_mode": {
    "name": "ipython",
    "version": 3
   },
   "file_extension": ".py",
   "mimetype": "text/x-python",
   "name": "python",
   "nbconvert_exporter": "python",
   "pygments_lexer": "ipython3",
   "version": "3.8.11"
  }
 },
 "nbformat": 4,
 "nbformat_minor": 5
}

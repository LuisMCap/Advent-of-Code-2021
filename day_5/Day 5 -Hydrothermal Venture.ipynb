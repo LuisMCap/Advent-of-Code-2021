{
 "cells": [
  {
   "cell_type": "code",
   "execution_count": 2,
   "id": "d861cf72",
   "metadata": {},
   "outputs": [],
   "source": [
    "import numpy as np"
   ]
  },
  {
   "cell_type": "markdown",
   "id": "f8fc6144",
   "metadata": {},
   "source": [
    "## Part 1"
   ]
  },
  {
   "cell_type": "code",
   "execution_count": 3,
   "id": "d4683b4b",
   "metadata": {},
   "outputs": [],
   "source": [
    "file = open('day 5.txt','r')"
   ]
  },
  {
   "cell_type": "code",
   "execution_count": 4,
   "id": "712cb028",
   "metadata": {},
   "outputs": [],
   "source": [
    "content = file.read()\n",
    "data = content.split('\\n')"
   ]
  },
  {
   "cell_type": "code",
   "execution_count": 23,
   "id": "6fc37cfe",
   "metadata": {},
   "outputs": [],
   "source": [
    "def create_vents(data):\n",
    "    vents = []\n",
    "    \n",
    "    #Cleaning data and creating a new list with all the values\n",
    "    vents = [row.split(' -> ') for row in data]\n",
    "    \n",
    "    vents.remove([''])\n",
    "    \n",
    "    return vents"
   ]
  },
  {
   "cell_type": "code",
   "execution_count": 27,
   "id": "b7eb4917",
   "metadata": {},
   "outputs": [],
   "source": [
    "def create_grid(vents):\n",
    "    grid = np.zeros((1000,1000))\n",
    "    \n",
    "    for vent in vents:\n",
    "        x1,y1 = [int(number) for number in vent[0].split(',')]\n",
    "        x2,y2 = [int(number) for number in vent[1].split(',')]\n",
    "        \n",
    "        if y1 == y2:\n",
    "            for x in range(min(x1,x2),max(x1,x2)+1):\n",
    "                grid[x,y1] += 1\n",
    "                \n",
    "        if x1 == x2:\n",
    "            for y in range(min(y1,y2),max(y1,y2)+1):\n",
    "                grid[x1,y] += 1\n",
    "                \n",
    "    return grid"
   ]
  },
  {
   "cell_type": "code",
   "execution_count": 7,
   "id": "560f0ba8",
   "metadata": {},
   "outputs": [],
   "source": [
    "def calculate_answer(grid):\n",
    "    mask = np.where(grid>= 2)\n",
    "    \n",
    "    return len(grid[mask])"
   ]
  },
  {
   "cell_type": "code",
   "execution_count": 28,
   "id": "6334e0f5",
   "metadata": {},
   "outputs": [
    {
     "name": "stdout",
     "output_type": "stream",
     "text": [
      "6564\n"
     ]
    }
   ],
   "source": [
    "vents = create_vents(data)\n",
    "grid = create_grid(vents)\n",
    "answer = calculate_answer(grid)\n",
    "print(answer)"
   ]
  },
  {
   "cell_type": "markdown",
   "id": "78339412",
   "metadata": {},
   "source": [
    "## Part 2"
   ]
  },
  {
   "cell_type": "code",
   "execution_count": 18,
   "id": "3bd93dbe",
   "metadata": {},
   "outputs": [],
   "source": [
    "def diagonal_overlap(grid):    \n",
    "    grid = np.zeros((1000,1000))\n",
    "    \n",
    "    for vent in vents:\n",
    "        start = [int(number) for number in vent[0].split(',')]\n",
    "        end = [int(number) for number in vent[1].split(',')]\n",
    "\n",
    "        coordinates = []\n",
    "        final = end.copy()\n",
    "\n",
    "\n",
    "        x1,x2 = start[0],end[0]\n",
    "        y1,y2 = start[1],end[1]\n",
    "        grid[x1,y1] += 1\n",
    "\n",
    "        while coordinates != final:\n",
    "            coordinates = []\n",
    "            if (x1 - x2) > 0:\n",
    "                x1 -= 1\n",
    "\n",
    "            elif (x1 - x2) < 0:\n",
    "                x1 +=1\n",
    "\n",
    "            if (y1 - y2) > 0:\n",
    "                y1 -= 1\n",
    "\n",
    "            elif (y1 - y2) < 0:\n",
    "                y1 +=1\n",
    "\n",
    "            coordinates.append(x1)\n",
    "            coordinates.append(y1)\n",
    "            grid[coordinates[0],coordinates[1]] += 1\n",
    "    return grid"
   ]
  },
  {
   "cell_type": "code",
   "execution_count": 19,
   "id": "b4818733",
   "metadata": {},
   "outputs": [],
   "source": [
    "grid = diagonal_overlap(grid)"
   ]
  },
  {
   "cell_type": "code",
   "execution_count": 21,
   "id": "28ad2c02",
   "metadata": {},
   "outputs": [],
   "source": [
    "answer = calculate_answer(grid)"
   ]
  },
  {
   "cell_type": "code",
   "execution_count": 22,
   "id": "12eb600c",
   "metadata": {},
   "outputs": [
    {
     "data": {
      "text/plain": [
       "19172"
      ]
     },
     "execution_count": 22,
     "metadata": {},
     "output_type": "execute_result"
    }
   ],
   "source": [
    "answer"
   ]
  },
  {
   "cell_type": "code",
   "execution_count": null,
   "id": "f3639119",
   "metadata": {},
   "outputs": [],
   "source": []
  }
 ],
 "metadata": {
  "kernelspec": {
   "display_name": "Python 3 (ipykernel)",
   "language": "python",
   "name": "python3"
  },
  "language_info": {
   "codemirror_mode": {
    "name": "ipython",
    "version": 3
   },
   "file_extension": ".py",
   "mimetype": "text/x-python",
   "name": "python",
   "nbconvert_exporter": "python",
   "pygments_lexer": "ipython3",
   "version": "3.8.11"
  }
 },
 "nbformat": 4,
 "nbformat_minor": 5
}

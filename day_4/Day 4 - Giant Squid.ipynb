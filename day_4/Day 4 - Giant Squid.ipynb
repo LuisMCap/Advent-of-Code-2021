{
 "cells": [
  {
   "cell_type": "code",
   "execution_count": 1,
   "id": "6b7ceb8f",
   "metadata": {},
   "outputs": [],
   "source": [
    "import numpy as np\n",
    "import re"
   ]
  },
  {
   "cell_type": "code",
   "execution_count": 2,
   "id": "96a0cf74",
   "metadata": {},
   "outputs": [],
   "source": [
    "file = open('day 4.txt','r')\n",
    "content = file.readlines()"
   ]
  },
  {
   "cell_type": "code",
   "execution_count": 3,
   "id": "2c101863",
   "metadata": {},
   "outputs": [],
   "source": [
    "draws = content.pop(0)\n",
    "draws = draws.replace('\\n','')\n",
    "draws = [int(number) for number in draws.split(',')]"
   ]
  },
  {
   "cell_type": "markdown",
   "id": "8831aabe",
   "metadata": {},
   "source": [
    "## Part 1"
   ]
  },
  {
   "cell_type": "code",
   "execution_count": 4,
   "id": "970dc3b5",
   "metadata": {},
   "outputs": [],
   "source": [
    "def get_bingo_boards(content):\n",
    "    #Cleaning text file using regex module\n",
    "    pattern = re.compile(r'\\n')\n",
    "    \n",
    "    #Create a numpy array to merge it with a cleaned row\n",
    "    z = np.array([[0,0,0,0,0]])\n",
    "    \n",
    "    bingo_boards = []\n",
    "    count = 0\n",
    "    for i in range(0,len(content)):\n",
    "        #Cleaning text file\n",
    "        clean = re.sub(pattern,'',content[i])\n",
    "        lista = (clean.split(' '))\n",
    "        lista = list(filter(''.__ne__,lista))\n",
    "        lista = [int(number) for number in lista]\n",
    "        \n",
    "        #Cleaned row\n",
    "        b = np.array([lista])\n",
    "        \n",
    "        #Condition because there are empty values in the text file\n",
    "        if len(lista) > 1:\n",
    "            #Combining arrays\n",
    "            z = np.concatenate((z,b),axis=0)\n",
    "            count += 1\n",
    "            \n",
    "            #Since each bingo board is 5x5 we want to separate them every 5 rows.\n",
    "            if count % 5 == 0:\n",
    "                #We delete the placeholder we used to combine the bingo board\n",
    "                z = np.delete(z,0,0)\n",
    "                \n",
    "                #Appending the cleaned board to a list with all the boards\n",
    "                bingo_boards.append(z)\n",
    "                z = np.array([[0,0,0,0,0]])   \n",
    "                \n",
    "    return bingo_boards"
   ]
  },
  {
   "cell_type": "code",
   "execution_count": 5,
   "id": "a114de08",
   "metadata": {},
   "outputs": [],
   "source": [
    "def get_winning_board(bingo_boards):\n",
    "    not_found = True\n",
    "    for draw in draws:\n",
    "        for index,board in enumerate(bingo_boards):\n",
    "            if draw in board:\n",
    "                #Getting mask when value in the bingo board equals the value drew\n",
    "                result = np.where(board == draw)\n",
    "                \n",
    "                #Assigning a placeholder for that draw\n",
    "                board[result[0],result[1]] = -1\n",
    "\n",
    "                #Checking if row won\n",
    "                if board[result[0],:].sum() == -5:\n",
    "                    winning_board = board\n",
    "                    winning_number = draw\n",
    "                    not_found = False\n",
    "\n",
    "                #Checking if column won\n",
    "                if board[:,result[1]].sum() == -5:\n",
    "                    winning_board = board\n",
    "                    winning_number = draw\n",
    "                    not_found = False\n",
    "\n",
    "        #Breaking the nested for loop\n",
    "        if not_found == False:\n",
    "            break\n",
    "            \n",
    "    return winning_board,winning_number\n",
    "            "
   ]
  },
  {
   "cell_type": "code",
   "execution_count": 6,
   "id": "6f610ff0",
   "metadata": {},
   "outputs": [],
   "source": [
    "def calculate_answer(winning_board,winning_number):\n",
    "    suma = 0\n",
    "    for row in winning_board:\n",
    "        mask = (np.where(row != -1))\n",
    "        suma += row[mask].sum()\n",
    "    \n",
    "    answer = suma*winning_number\n",
    "    \n",
    "    return answer"
   ]
  },
  {
   "cell_type": "code",
   "execution_count": 7,
   "id": "2b096058",
   "metadata": {},
   "outputs": [],
   "source": [
    "bingo_boards = get_bingo_boards(content)"
   ]
  },
  {
   "cell_type": "code",
   "execution_count": 8,
   "id": "932a3d84",
   "metadata": {},
   "outputs": [],
   "source": [
    "winning_items = get_winning_board(bingo_boards)"
   ]
  },
  {
   "cell_type": "code",
   "execution_count": 9,
   "id": "afc3d8af",
   "metadata": {},
   "outputs": [
    {
     "data": {
      "text/plain": [
       "2745"
      ]
     },
     "execution_count": 9,
     "metadata": {},
     "output_type": "execute_result"
    }
   ],
   "source": [
    "calculate_answer(winning_items[0],winning_items[1])"
   ]
  },
  {
   "cell_type": "markdown",
   "id": "a134b0ee",
   "metadata": {},
   "source": [
    "## Part 2"
   ]
  },
  {
   "cell_type": "code",
   "execution_count": 10,
   "id": "c6ade1ef",
   "metadata": {},
   "outputs": [],
   "source": [
    "def different_strategy(bingo_boards):\n",
    "    not_found = True\n",
    "    count = 0\n",
    "    \n",
    "    #When lenght is equal to the number of boards that have won, that means we have reached the end\n",
    "    lenght = len(bingo_boards)\n",
    "    \n",
    "    #If a board wins, we want to replace it with a board that can no longer wins to not double count\n",
    "    placeholder = np.array([[1000 for i in range(5)]]*5)\n",
    "    for draw in draws:\n",
    "        for index,board in enumerate(bingo_boards):\n",
    "            if draw in board:\n",
    "                result = np.where(board == draw)\n",
    "                board[result[0],result[1]] = -1\n",
    "\n",
    "                if board[result[0],:].sum() == -5:\n",
    "                    count += 1\n",
    "                    winning_board = board\n",
    "                    winning_number = draw\n",
    "                    bingo_boards[index] = placeholder\n",
    "\n",
    "                elif board[:,result[1]].sum() == -5:\n",
    "                    count += 1\n",
    "                    winning_board = board\n",
    "                    winning_number = draw\n",
    "                    bingo_boards[index] = placeholder\n",
    "\n",
    "        if count == lenght:\n",
    "            break\n",
    "            \n",
    "    return winning_board,winning_number"
   ]
  },
  {
   "cell_type": "code",
   "execution_count": 11,
   "id": "1cfc9409",
   "metadata": {},
   "outputs": [],
   "source": [
    "bingo_boards = get_bingo_boards(content)"
   ]
  },
  {
   "cell_type": "code",
   "execution_count": 12,
   "id": "207262db",
   "metadata": {},
   "outputs": [],
   "source": [
    "winning_items = different_strategy(bingo_boards)"
   ]
  },
  {
   "cell_type": "code",
   "execution_count": 13,
   "id": "e02dbfeb",
   "metadata": {},
   "outputs": [
    {
     "data": {
      "text/plain": [
       "6594"
      ]
     },
     "execution_count": 13,
     "metadata": {},
     "output_type": "execute_result"
    }
   ],
   "source": [
    "calculate_answer(winning_items[0],winning_items[1])"
   ]
  }
 ],
 "metadata": {
  "kernelspec": {
   "display_name": "Python 3 (ipykernel)",
   "language": "python",
   "name": "python3"
  },
  "language_info": {
   "codemirror_mode": {
    "name": "ipython",
    "version": 3
   },
   "file_extension": ".py",
   "mimetype": "text/x-python",
   "name": "python",
   "nbconvert_exporter": "python",
   "pygments_lexer": "ipython3",
   "version": "3.8.11"
  }
 },
 "nbformat": 4,
 "nbformat_minor": 5
}
